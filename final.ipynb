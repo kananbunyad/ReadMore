{
 "cells": [
  {
   "cell_type": "code",
   "execution_count": null,
   "id": "a9bfd8d0",
   "metadata": {
    "vscode": {
     "languageId": "plaintext"
    }
   },
   "outputs": [],
   "source": [
    "import pandas as pd\n",
    "\n",
    "df = pd.read_csv(\"ReadMore_AB_Test_Data.csv\")\n",
    "\n",
    "df[\"timestamp\"] = pd.to_datetime(df[\"timestamp\"])\n",
    "\n",
    "summary = df.groupby(\"group\")[\"converted\"].agg([\"count\", \"sum\"])\n",
    "summary[\"signup_rate (%)\"] = (summary[\"sum\"] / summary[\"count\"]) * 100\n",
    "\n",
    "print(\"Signup Summary by Group:\")\n",
    "print(summary)\n"
   ]
  },
  {
   "cell_type": "code",
   "execution_count": null,
   "id": "dab77588",
   "metadata": {
    "vscode": {
     "languageId": "plaintext"
    }
   },
   "outputs": [],
   "source": [
    "control = df[df[\"group\"] == \"Control\"]\n",
    "variant = df[df[\"group\"] == \"Variant\"]\n",
    "\n",
    "control_rate = control[\"converted\"].mean() * 100\n",
    "variant_rate = variant[\"converted\"].mean() * 100\n",
    "\n",
    "print(f\"Control Signup Rate: {control_rate:.2f}%\")\n",
    "print(f\"Variant Signup Rate: {variant_rate:.2f}%\")\n"
   ]
  },
  {
   "cell_type": "code",
   "execution_count": null,
   "id": "23df687c",
   "metadata": {
    "vscode": {
     "languageId": "plaintext"
    }
   },
   "outputs": [],
   "source": [
    "from statsmodels.stats.proportion import proportions_ztest\n",
    "\n",
    "conversions = [control[\"converted\"].sum(), variant[\"converted\"].sum()]\n",
    "totals = [len(control), len(variant)]\n",
    "\n",
    "z_stat, p_val = proportions_ztest(conversions, totals)\n",
    "\n",
    "print(f\"Z-Statistic: {z_stat:.2f}\")\n",
    "print(f\"P-Value: {p_val:.4f}\")\n",
    "\n",
    "if p_val < 0.05:\n",
    "    print(\"Statistically significant: the banner increased conversions.\")\n",
    "else:\n",
    "    print(\"Not statistically significant: no strong evidence of impact.\")\n"
   ]
  },
  {
   "cell_type": "code",
   "execution_count": null,
   "id": "0c1bfa50",
   "metadata": {
    "vscode": {
     "languageId": "plaintext"
    }
   },
   "outputs": [],
   "source": [
    "import matplotlib.pyplot as plt\n",
    "import seaborn as sns\n",
    "\n",
    "channel_data = df.groupby([\"group\", \"channel\"])[\"converted\"].mean().reset_index()\n",
    "channel_data[\"converted\"] *= 100\n",
    "\n",
    "plt.figure(figsize=(8, 5))\n",
    "sns.barplot(data=channel_data, x=\"channel\", y=\"converted\", hue=\"group\")\n",
    "plt.title(\"Signup Rate by Channel\")\n",
    "plt.ylabel(\"Signup Rate (%)\")\n",
    "plt.xlabel(\"Channel\")\n",
    "plt.tight_layout()\n",
    "plt.show()\n",
    "\n",
    "\n"
   ]
  },
  {
   "cell_type": "code",
   "execution_count": null,
   "id": "d41bac86",
   "metadata": {
    "vscode": {
     "languageId": "plaintext"
    }
   },
   "outputs": [],
   "source": [
    "df['date'] = pd.to_datetime(df['timestamp']).dt.date\n",
    "daily_summary = df.groupby([\"date\", \"group\"])[\"converted\"].mean().reset_index()\n",
    "\n",
    "plt.figure(figsize=(12,6))\n",
    "sns.lineplot(data=daily_summary, x=\"date\", y=\"converted\", hue=\"group\", marker=\"o\")\n",
    "plt.title(\"Daily Signup Rate by Group Over Time\")\n",
    "plt.ylabel(\"Signup Rate\")\n",
    "plt.xlabel(\"Date\")\n",
    "plt.xticks(rotation=45)\n",
    "plt.show()"
   ]
  },
  {
   "cell_type": "code",
   "execution_count": null,
   "id": "d66216c5",
   "metadata": {
    "vscode": {
     "languageId": "plaintext"
    }
   },
   "outputs": [],
   "source": [
    "# Based on the analysis, it’s clear that showing the free trial banner positively impacts signup rates.\n",
    "# Therefore, I recommend displaying this banner to all users visiting article pages to maximize conversions.\n",
    "# Additionally, since some channels like social media show stronger results, focusing marketing efforts there could boost signups further.\n",
    "# It’s also important to keep testing different banner designs and messaging to find the most effective combination.\n",
    "# Personalizing banner displays to target users who are more likely to convert could improve results even more.\n",
    "# Finally, tracking how many free trial users convert to paid subscriptions will help optimize the onboarding process and ensure long-term success.\n"
   ]
  },
  {
   "cell_type": "code",
   "execution_count": null,
   "id": "7c21c3fd",
   "metadata": {
    "vscode": {
     "languageId": "plaintext"
    }
   },
   "outputs": [],
   "source": []
  }
 ],
 "metadata": {
  "language_info": {
   "name": "python"
  }
 },
 "nbformat": 4,
 "nbformat_minor": 5
}
