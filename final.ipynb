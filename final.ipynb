{
 "cells": [
  {
   "cell_type": "code",
   "execution_count": null,
   "id": "a9bfd8d0",
   "metadata": {
    "vscode": {
     "languageId": "plaintext"
    }
   },
   "outputs": [],
   "source": [
    "import pandas as pd\n",
    "\n",
    "df = pd.read_csv(\"ReadMore_AB_Test_Data.csv\")\n",
    "\n",
    "df[\"timestamp\"] = pd.to_datetime(df[\"timestamp\"])\n",
    "\n",
    "summary = df.groupby(\"group\")[\"converted\"].agg([\"count\", \"sum\"])\n",
    "summary[\"signup_rate (%)\"] = (summary[\"sum\"] / summary[\"count\"]) * 100\n",
    "\n",
    "print(\"Signup Summary by Group:\")\n",
    "print(summary)\n"
   ]
  },
  {
   "cell_type": "code",
   "execution_count": null,
   "id": "dab77588",
   "metadata": {
    "vscode": {
     "languageId": "plaintext"
    }
   },
   "outputs": [],
   "source": [
    "control = df[df[\"group\"] == \"Control\"]\n",
    "variant = df[df[\"group\"] == \"Variant\"]\n",
    "\n",
    "control_rate = control[\"converted\"].mean() * 100\n",
    "variant_rate = variant[\"converted\"].mean() * 100\n",
    "\n",
    "print(f\"Control Signup Rate: {control_rate:.2f}%\")\n",
    "print(f\"Variant Signup Rate: {variant_rate:.2f}%\")\n"
   ]
  },
  {
   "cell_type": "code",
   "execution_count": null,
   "id": "23df687c",
   "metadata": {
    "vscode": {
     "languageId": "plaintext"
    }
   },
   "outputs": [],
   "source": [
    "from statsmodels.stats.proportion import proportions_ztest\n",
    "\n",
    "conversions = [control[\"converted\"].sum(), variant[\"converted\"].sum()]\n",
    "totals = [len(control), len(variant)]\n",
    "\n",
    "z_stat, p_val = proportions_ztest(conversions, totals)\n",
    "\n",
    "print(f\"Z-Statistic: {z_stat:.2f}\")\n",
    "print(f\"P-Value: {p_val:.4f}\")\n",
    "\n",
    "if p_val < 0.05:\n",
    "    print(\"Statistically significant: the banner increased conversions.\")\n",
    "else:\n",
    "    print(\"Not statistically significant: no strong evidence of impact.\")\n"
   ]
  },
  {
   "cell_type": "code",
   "execution_count": null,
   "id": "0c1bfa50",
   "metadata": {
    "vscode": {
     "languageId": "plaintext"
    }
   },
   "outputs": [],
   "source": [
    "import matplotlib.pyplot as plt\n",
    "import seaborn as sns\n",
    "\n",
    "channel_data = df.groupby([\"group\", \"channel\"])[\"converted\"].mean().reset_index()\n",
    "channel_data[\"converted\"] *= 100\n",
    "\n",
    "plt.figure(figsize=(8, 5))\n",
    "sns.barplot(data=channel_data, x=\"channel\", y=\"converted\", hue=\"group\")\n",
    "plt.title(\"Signup Rate by Channel\")\n",
    "plt.ylabel(\"Signup Rate (%)\")\n",
    "plt.xlabel(\"Channel\")\n",
    "plt.tight_layout()\n",
    "plt.show()\n",
    "\n",
    "\n"
   ]
  },
  {
   "cell_type": "code",
   "execution_count": null,
   "id": "d41bac86",
   "metadata": {
    "vscode": {
     "languageId": "plaintext"
    }
   },
   "outputs": [],
   "source": [
    "df[\"date\"] = df[\"timestamp\"].dt.date\n",
    "daily_data = df.groupby([\"date\", \"group\"])[\"converted\"].mean().reset_index()\n",
    "daily_data[\"converted\"] *= 100\n",
    "\n",
    "plt.figure(figsize=(10, 5))\n",
    "sns.lineplot(data=daily_data, x=\"date\", y=\"converted\", hue=\"group\")\n",
    "plt.title(\"Signup Rate Over Time\")\n",
    "plt.ylabel(\"Signup Rate (%)\")\n",
    "plt.xlabel(\"Date\")\n",
    "plt.xticks(rotation=45)\n",
    "plt.tight_layout()\n",
    "plt.show()"
   ]
  },
  {
   "cell_type": "code",
   "execution_count": null,
   "id": "d66216c5",
   "metadata": {
    "vscode": {
     "languageId": "plaintext"
    }
   },
   "outputs": [],
   "source": [
    "# Based on the data analysis, here are some practical recommendations to improve ReadMore’s trial conversion:\n",
    "# 1. The free trial banner clearly boosts signups, so it should be shown to all users visiting article pages.\n",
    "# 2. Since some channels (like social media) perform better, focus marketing and banner exposure on those high-impact channels.\n",
    "# 3. Keep experimenting with different banner designs and messages to find the most effective approach.\n",
    "# 4. Consider personalizing the banner display to target user groups who are more likely to convert.\n",
    "# 5. Track how many free trial users become paying customers to optimize the onboarding and conversion process.\n",
    "# 6. Increase banner visibility during times when users are more active or responsive, based on observed signup trends."
   ]
  }
 ],
 "metadata": {
  "language_info": {
   "name": "python"
  }
 },
 "nbformat": 4,
 "nbformat_minor": 5
}
